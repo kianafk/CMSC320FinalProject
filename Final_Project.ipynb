{
  "nbformat": 4,
  "nbformat_minor": 0,
  "metadata": {
    "colab": {
      "name": "Final Project",
      "provenance": []
    },
    "kernelspec": {
      "name": "python3",
      "display_name": "Python 3"
    },
    "language_info": {
      "name": "python"
    }
  },
  "cells": [
    {
      "cell_type": "markdown",
      "source": [
        "# Comparing How States Have Dealt With the  COVID-19 Pandemic\n",
        "  Kian Afkhami\n",
        "\n",
        "\n",
        "---\n",
        "#1 Introduction\n",
        "I am going to create various COVID plots to showcase COVID data from the U and New York State.\n"
      ],
      "metadata": {
        "id": "86p8lLQjkOvI"
      }
    },
    {
      "cell_type": "markdown",
      "source": [
        "#2 Libraries \n",
        "The libraries I am using are:\n",
        "\n",
        "*   pandas\n",
        "*   matplot\n",
        "*   re\n",
        "\n",
        "Pandas is used for dataframes. matplot is used for creating plots. Re is used for regular expressions when parsing data.\n",
        "More information about these can be found in extra resources"
      ],
      "metadata": {
        "id": "JXGYLyhiFE1P"
      }
    },
    {
      "cell_type": "code",
      "source": [
        "\n",
        "#from sklearn.linear_model import LinearRegression\n",
        "#import seaborn as sns\n",
        "#import statsmodels.api as sm\n",
        "#from sklearn import linear_model\n",
        "\n",
        "import pandas as pd\n",
        "import numpy as np\n",
        "import matplotlib.pyplot as plt\n",
        "import re"
      ],
      "metadata": {
        "id": "gnjif12Elxk_"
      },
      "execution_count": 149,
      "outputs": []
    },
    {
      "cell_type": "markdown",
      "source": [
        "#3 COVID Cases and Death Datasets/Plots \n",
        "The dataset I am using can be found in external resources. It contains one row for each date for each state, with case and death data for each row.\n"
      ],
      "metadata": {
        "id": "5OsSCchEFe_O"
      }
    },
    {
      "cell_type": "markdown",
      "source": [
        "## 3.1 US COVID-19 Cases and Deaths Dataset\n",
        "\n",
        "This dataset is from the CDC, more information and a link can be found in external resources. It contains some extra information, so it needs to be parsed."
      ],
      "metadata": {
        "id": "mfTZZEdbJCJi"
      }
    },
    {
      "cell_type": "code",
      "execution_count": 122,
      "metadata": {
        "id": "r513kz_YkKz1",
        "colab": {
          "base_uri": "https://localhost:8080/",
          "height": 353
        },
        "outputId": "2bba8bd1-3e1f-41a2-c79c-af5baab64a7e"
      },
      "outputs": [
        {
          "output_type": "execute_result",
          "data": {
            "text/plain": [
              "  submission_date state  tot_cases  conf_cases  prob_cases  new_case  \\\n",
              "0      01/14/2022    KS     621273    470516.0    150757.0     19414   \n",
              "1      01/02/2022    AS         11         NaN         NaN         0   \n",
              "2      08/22/2020    AR      56199         NaN         NaN       547   \n",
              "3      05/09/2021    PW          0         NaN         NaN         0   \n",
              "4      01/01/2022    UT     636992    636992.0         0.0         0   \n",
              "\n",
              "   pnew_case  tot_death  conf_death  prob_death  new_death  pnew_death  \\\n",
              "0     6964.0       7162         NaN         NaN         21         4.0   \n",
              "1        0.0          0         NaN         NaN          0         0.0   \n",
              "2        0.0        674         NaN         NaN         11         0.0   \n",
              "3        0.0          0         NaN         NaN          0         0.0   \n",
              "4        0.0       3787      3635.0       152.0          0         0.0   \n",
              "\n",
              "               created_at consent_cases consent_deaths  \n",
              "0  01/15/2022 02:59:30 PM         Agree            NaN  \n",
              "1  01/03/2022 03:18:16 PM           NaN            NaN  \n",
              "2  08/23/2020 02:15:28 PM     Not agree      Not agree  \n",
              "3  05/10/2021 02:15:36 PM           NaN            NaN  \n",
              "4  01/03/2022 01:55:55 PM         Agree          Agree  "
            ],
            "text/html": [
              "\n",
              "  <div id=\"df-8179790b-3a16-4286-9ead-b535c411f702\">\n",
              "    <div class=\"colab-df-container\">\n",
              "      <div>\n",
              "<style scoped>\n",
              "    .dataframe tbody tr th:only-of-type {\n",
              "        vertical-align: middle;\n",
              "    }\n",
              "\n",
              "    .dataframe tbody tr th {\n",
              "        vertical-align: top;\n",
              "    }\n",
              "\n",
              "    .dataframe thead th {\n",
              "        text-align: right;\n",
              "    }\n",
              "</style>\n",
              "<table border=\"1\" class=\"dataframe\">\n",
              "  <thead>\n",
              "    <tr style=\"text-align: right;\">\n",
              "      <th></th>\n",
              "      <th>submission_date</th>\n",
              "      <th>state</th>\n",
              "      <th>tot_cases</th>\n",
              "      <th>conf_cases</th>\n",
              "      <th>prob_cases</th>\n",
              "      <th>new_case</th>\n",
              "      <th>pnew_case</th>\n",
              "      <th>tot_death</th>\n",
              "      <th>conf_death</th>\n",
              "      <th>prob_death</th>\n",
              "      <th>new_death</th>\n",
              "      <th>pnew_death</th>\n",
              "      <th>created_at</th>\n",
              "      <th>consent_cases</th>\n",
              "      <th>consent_deaths</th>\n",
              "    </tr>\n",
              "  </thead>\n",
              "  <tbody>\n",
              "    <tr>\n",
              "      <th>0</th>\n",
              "      <td>01/14/2022</td>\n",
              "      <td>KS</td>\n",
              "      <td>621273</td>\n",
              "      <td>470516.0</td>\n",
              "      <td>150757.0</td>\n",
              "      <td>19414</td>\n",
              "      <td>6964.0</td>\n",
              "      <td>7162</td>\n",
              "      <td>NaN</td>\n",
              "      <td>NaN</td>\n",
              "      <td>21</td>\n",
              "      <td>4.0</td>\n",
              "      <td>01/15/2022 02:59:30 PM</td>\n",
              "      <td>Agree</td>\n",
              "      <td>NaN</td>\n",
              "    </tr>\n",
              "    <tr>\n",
              "      <th>1</th>\n",
              "      <td>01/02/2022</td>\n",
              "      <td>AS</td>\n",
              "      <td>11</td>\n",
              "      <td>NaN</td>\n",
              "      <td>NaN</td>\n",
              "      <td>0</td>\n",
              "      <td>0.0</td>\n",
              "      <td>0</td>\n",
              "      <td>NaN</td>\n",
              "      <td>NaN</td>\n",
              "      <td>0</td>\n",
              "      <td>0.0</td>\n",
              "      <td>01/03/2022 03:18:16 PM</td>\n",
              "      <td>NaN</td>\n",
              "      <td>NaN</td>\n",
              "    </tr>\n",
              "    <tr>\n",
              "      <th>2</th>\n",
              "      <td>08/22/2020</td>\n",
              "      <td>AR</td>\n",
              "      <td>56199</td>\n",
              "      <td>NaN</td>\n",
              "      <td>NaN</td>\n",
              "      <td>547</td>\n",
              "      <td>0.0</td>\n",
              "      <td>674</td>\n",
              "      <td>NaN</td>\n",
              "      <td>NaN</td>\n",
              "      <td>11</td>\n",
              "      <td>0.0</td>\n",
              "      <td>08/23/2020 02:15:28 PM</td>\n",
              "      <td>Not agree</td>\n",
              "      <td>Not agree</td>\n",
              "    </tr>\n",
              "    <tr>\n",
              "      <th>3</th>\n",
              "      <td>05/09/2021</td>\n",
              "      <td>PW</td>\n",
              "      <td>0</td>\n",
              "      <td>NaN</td>\n",
              "      <td>NaN</td>\n",
              "      <td>0</td>\n",
              "      <td>0.0</td>\n",
              "      <td>0</td>\n",
              "      <td>NaN</td>\n",
              "      <td>NaN</td>\n",
              "      <td>0</td>\n",
              "      <td>0.0</td>\n",
              "      <td>05/10/2021 02:15:36 PM</td>\n",
              "      <td>NaN</td>\n",
              "      <td>NaN</td>\n",
              "    </tr>\n",
              "    <tr>\n",
              "      <th>4</th>\n",
              "      <td>01/01/2022</td>\n",
              "      <td>UT</td>\n",
              "      <td>636992</td>\n",
              "      <td>636992.0</td>\n",
              "      <td>0.0</td>\n",
              "      <td>0</td>\n",
              "      <td>0.0</td>\n",
              "      <td>3787</td>\n",
              "      <td>3635.0</td>\n",
              "      <td>152.0</td>\n",
              "      <td>0</td>\n",
              "      <td>0.0</td>\n",
              "      <td>01/03/2022 01:55:55 PM</td>\n",
              "      <td>Agree</td>\n",
              "      <td>Agree</td>\n",
              "    </tr>\n",
              "  </tbody>\n",
              "</table>\n",
              "</div>\n",
              "      <button class=\"colab-df-convert\" onclick=\"convertToInteractive('df-8179790b-3a16-4286-9ead-b535c411f702')\"\n",
              "              title=\"Convert this dataframe to an interactive table.\"\n",
              "              style=\"display:none;\">\n",
              "        \n",
              "  <svg xmlns=\"http://www.w3.org/2000/svg\" height=\"24px\"viewBox=\"0 0 24 24\"\n",
              "       width=\"24px\">\n",
              "    <path d=\"M0 0h24v24H0V0z\" fill=\"none\"/>\n",
              "    <path d=\"M18.56 5.44l.94 2.06.94-2.06 2.06-.94-2.06-.94-.94-2.06-.94 2.06-2.06.94zm-11 1L8.5 8.5l.94-2.06 2.06-.94-2.06-.94L8.5 2.5l-.94 2.06-2.06.94zm10 10l.94 2.06.94-2.06 2.06-.94-2.06-.94-.94-2.06-.94 2.06-2.06.94z\"/><path d=\"M17.41 7.96l-1.37-1.37c-.4-.4-.92-.59-1.43-.59-.52 0-1.04.2-1.43.59L10.3 9.45l-7.72 7.72c-.78.78-.78 2.05 0 2.83L4 21.41c.39.39.9.59 1.41.59.51 0 1.02-.2 1.41-.59l7.78-7.78 2.81-2.81c.8-.78.8-2.07 0-2.86zM5.41 20L4 18.59l7.72-7.72 1.47 1.35L5.41 20z\"/>\n",
              "  </svg>\n",
              "      </button>\n",
              "      \n",
              "  <style>\n",
              "    .colab-df-container {\n",
              "      display:flex;\n",
              "      flex-wrap:wrap;\n",
              "      gap: 12px;\n",
              "    }\n",
              "\n",
              "    .colab-df-convert {\n",
              "      background-color: #E8F0FE;\n",
              "      border: none;\n",
              "      border-radius: 50%;\n",
              "      cursor: pointer;\n",
              "      display: none;\n",
              "      fill: #1967D2;\n",
              "      height: 32px;\n",
              "      padding: 0 0 0 0;\n",
              "      width: 32px;\n",
              "    }\n",
              "\n",
              "    .colab-df-convert:hover {\n",
              "      background-color: #E2EBFA;\n",
              "      box-shadow: 0px 1px 2px rgba(60, 64, 67, 0.3), 0px 1px 3px 1px rgba(60, 64, 67, 0.15);\n",
              "      fill: #174EA6;\n",
              "    }\n",
              "\n",
              "    [theme=dark] .colab-df-convert {\n",
              "      background-color: #3B4455;\n",
              "      fill: #D2E3FC;\n",
              "    }\n",
              "\n",
              "    [theme=dark] .colab-df-convert:hover {\n",
              "      background-color: #434B5C;\n",
              "      box-shadow: 0px 1px 3px 1px rgba(0, 0, 0, 0.15);\n",
              "      filter: drop-shadow(0px 1px 2px rgba(0, 0, 0, 0.3));\n",
              "      fill: #FFFFFF;\n",
              "    }\n",
              "  </style>\n",
              "\n",
              "      <script>\n",
              "        const buttonEl =\n",
              "          document.querySelector('#df-8179790b-3a16-4286-9ead-b535c411f702 button.colab-df-convert');\n",
              "        buttonEl.style.display =\n",
              "          google.colab.kernel.accessAllowed ? 'block' : 'none';\n",
              "\n",
              "        async function convertToInteractive(key) {\n",
              "          const element = document.querySelector('#df-8179790b-3a16-4286-9ead-b535c411f702');\n",
              "          const dataTable =\n",
              "            await google.colab.kernel.invokeFunction('convertToInteractive',\n",
              "                                                     [key], {});\n",
              "          if (!dataTable) return;\n",
              "\n",
              "          const docLinkHtml = 'Like what you see? Visit the ' +\n",
              "            '<a target=\"_blank\" href=https://colab.research.google.com/notebooks/data_table.ipynb>data table notebook</a>'\n",
              "            + ' to learn more about interactive tables.';\n",
              "          element.innerHTML = '';\n",
              "          dataTable['output_type'] = 'display_data';\n",
              "          await google.colab.output.renderOutput(dataTable, element);\n",
              "          const docLink = document.createElement('div');\n",
              "          docLink.innerHTML = docLinkHtml;\n",
              "          element.appendChild(docLink);\n",
              "        }\n",
              "      </script>\n",
              "    </div>\n",
              "  </div>\n",
              "  "
            ]
          },
          "metadata": {},
          "execution_count": 122
        }
      ],
      "source": [
        "states = pd.read_csv(\"United_States_COVID-19_Cases_and_Deaths_by_State_over_Time.csv\")\n",
        "states.head()"
      ]
    },
    {
      "cell_type": "markdown",
      "source": [
        "## 3.2 Removing Extra Columns\n",
        "Columns not used are being removed here."
      ],
      "metadata": {
        "id": "_iYMIdfDI_6h"
      }
    },
    {
      "cell_type": "code",
      "source": [
        "states.columns"
      ],
      "metadata": {
        "colab": {
          "base_uri": "https://localhost:8080/"
        },
        "id": "6Qy-4D91JgN_",
        "outputId": "89954934-bf6e-4579-8631-10b78a09e5a0"
      },
      "execution_count": 123,
      "outputs": [
        {
          "output_type": "execute_result",
          "data": {
            "text/plain": [
              "Index(['submission_date', 'state', 'tot_cases', 'conf_cases', 'prob_cases',\n",
              "       'new_case', 'pnew_case', 'tot_death', 'conf_death', 'prob_death',\n",
              "       'new_death', 'pnew_death', 'created_at', 'consent_cases',\n",
              "       'consent_deaths'],\n",
              "      dtype='object')"
            ]
          },
          "metadata": {},
          "execution_count": 123
        }
      ]
    },
    {
      "cell_type": "code",
      "source": [
        "states = states.drop('conf_cases', axis=1)\n",
        "states = states.drop('prob_cases', axis=1)\n",
        "states = states.drop('pnew_case', axis=1)\n",
        "states = states.drop('conf_death', axis=1)\n",
        "states = states.drop('prob_death', axis=1)\n",
        "states = states.drop('pnew_death', axis=1)\n",
        "states = states.drop('created_at', axis=1)\n",
        "states = states.drop('consent_cases', axis=1)\n",
        "states = states.drop('consent_deaths', axis=1)\n",
        "states.head()"
      ],
      "metadata": {
        "colab": {
          "base_uri": "https://localhost:8080/",
          "height": 204
        },
        "id": "qSpmEdv_I_hB",
        "outputId": "c7b2dd44-e714-40a1-c6f2-f8e7753f1b35"
      },
      "execution_count": 124,
      "outputs": [
        {
          "output_type": "execute_result",
          "data": {
            "text/plain": [
              "  submission_date state  tot_cases  new_case  tot_death  new_death\n",
              "0      01/14/2022    KS     621273     19414       7162         21\n",
              "1      01/02/2022    AS         11         0          0          0\n",
              "2      08/22/2020    AR      56199       547        674         11\n",
              "3      05/09/2021    PW          0         0          0          0\n",
              "4      01/01/2022    UT     636992         0       3787          0"
            ],
            "text/html": [
              "\n",
              "  <div id=\"df-abe8aa48-ebe4-4f41-9d86-09fbf73ed5d4\">\n",
              "    <div class=\"colab-df-container\">\n",
              "      <div>\n",
              "<style scoped>\n",
              "    .dataframe tbody tr th:only-of-type {\n",
              "        vertical-align: middle;\n",
              "    }\n",
              "\n",
              "    .dataframe tbody tr th {\n",
              "        vertical-align: top;\n",
              "    }\n",
              "\n",
              "    .dataframe thead th {\n",
              "        text-align: right;\n",
              "    }\n",
              "</style>\n",
              "<table border=\"1\" class=\"dataframe\">\n",
              "  <thead>\n",
              "    <tr style=\"text-align: right;\">\n",
              "      <th></th>\n",
              "      <th>submission_date</th>\n",
              "      <th>state</th>\n",
              "      <th>tot_cases</th>\n",
              "      <th>new_case</th>\n",
              "      <th>tot_death</th>\n",
              "      <th>new_death</th>\n",
              "    </tr>\n",
              "  </thead>\n",
              "  <tbody>\n",
              "    <tr>\n",
              "      <th>0</th>\n",
              "      <td>01/14/2022</td>\n",
              "      <td>KS</td>\n",
              "      <td>621273</td>\n",
              "      <td>19414</td>\n",
              "      <td>7162</td>\n",
              "      <td>21</td>\n",
              "    </tr>\n",
              "    <tr>\n",
              "      <th>1</th>\n",
              "      <td>01/02/2022</td>\n",
              "      <td>AS</td>\n",
              "      <td>11</td>\n",
              "      <td>0</td>\n",
              "      <td>0</td>\n",
              "      <td>0</td>\n",
              "    </tr>\n",
              "    <tr>\n",
              "      <th>2</th>\n",
              "      <td>08/22/2020</td>\n",
              "      <td>AR</td>\n",
              "      <td>56199</td>\n",
              "      <td>547</td>\n",
              "      <td>674</td>\n",
              "      <td>11</td>\n",
              "    </tr>\n",
              "    <tr>\n",
              "      <th>3</th>\n",
              "      <td>05/09/2021</td>\n",
              "      <td>PW</td>\n",
              "      <td>0</td>\n",
              "      <td>0</td>\n",
              "      <td>0</td>\n",
              "      <td>0</td>\n",
              "    </tr>\n",
              "    <tr>\n",
              "      <th>4</th>\n",
              "      <td>01/01/2022</td>\n",
              "      <td>UT</td>\n",
              "      <td>636992</td>\n",
              "      <td>0</td>\n",
              "      <td>3787</td>\n",
              "      <td>0</td>\n",
              "    </tr>\n",
              "  </tbody>\n",
              "</table>\n",
              "</div>\n",
              "      <button class=\"colab-df-convert\" onclick=\"convertToInteractive('df-abe8aa48-ebe4-4f41-9d86-09fbf73ed5d4')\"\n",
              "              title=\"Convert this dataframe to an interactive table.\"\n",
              "              style=\"display:none;\">\n",
              "        \n",
              "  <svg xmlns=\"http://www.w3.org/2000/svg\" height=\"24px\"viewBox=\"0 0 24 24\"\n",
              "       width=\"24px\">\n",
              "    <path d=\"M0 0h24v24H0V0z\" fill=\"none\"/>\n",
              "    <path d=\"M18.56 5.44l.94 2.06.94-2.06 2.06-.94-2.06-.94-.94-2.06-.94 2.06-2.06.94zm-11 1L8.5 8.5l.94-2.06 2.06-.94-2.06-.94L8.5 2.5l-.94 2.06-2.06.94zm10 10l.94 2.06.94-2.06 2.06-.94-2.06-.94-.94-2.06-.94 2.06-2.06.94z\"/><path d=\"M17.41 7.96l-1.37-1.37c-.4-.4-.92-.59-1.43-.59-.52 0-1.04.2-1.43.59L10.3 9.45l-7.72 7.72c-.78.78-.78 2.05 0 2.83L4 21.41c.39.39.9.59 1.41.59.51 0 1.02-.2 1.41-.59l7.78-7.78 2.81-2.81c.8-.78.8-2.07 0-2.86zM5.41 20L4 18.59l7.72-7.72 1.47 1.35L5.41 20z\"/>\n",
              "  </svg>\n",
              "      </button>\n",
              "      \n",
              "  <style>\n",
              "    .colab-df-container {\n",
              "      display:flex;\n",
              "      flex-wrap:wrap;\n",
              "      gap: 12px;\n",
              "    }\n",
              "\n",
              "    .colab-df-convert {\n",
              "      background-color: #E8F0FE;\n",
              "      border: none;\n",
              "      border-radius: 50%;\n",
              "      cursor: pointer;\n",
              "      display: none;\n",
              "      fill: #1967D2;\n",
              "      height: 32px;\n",
              "      padding: 0 0 0 0;\n",
              "      width: 32px;\n",
              "    }\n",
              "\n",
              "    .colab-df-convert:hover {\n",
              "      background-color: #E2EBFA;\n",
              "      box-shadow: 0px 1px 2px rgba(60, 64, 67, 0.3), 0px 1px 3px 1px rgba(60, 64, 67, 0.15);\n",
              "      fill: #174EA6;\n",
              "    }\n",
              "\n",
              "    [theme=dark] .colab-df-convert {\n",
              "      background-color: #3B4455;\n",
              "      fill: #D2E3FC;\n",
              "    }\n",
              "\n",
              "    [theme=dark] .colab-df-convert:hover {\n",
              "      background-color: #434B5C;\n",
              "      box-shadow: 0px 1px 3px 1px rgba(0, 0, 0, 0.15);\n",
              "      filter: drop-shadow(0px 1px 2px rgba(0, 0, 0, 0.3));\n",
              "      fill: #FFFFFF;\n",
              "    }\n",
              "  </style>\n",
              "\n",
              "      <script>\n",
              "        const buttonEl =\n",
              "          document.querySelector('#df-abe8aa48-ebe4-4f41-9d86-09fbf73ed5d4 button.colab-df-convert');\n",
              "        buttonEl.style.display =\n",
              "          google.colab.kernel.accessAllowed ? 'block' : 'none';\n",
              "\n",
              "        async function convertToInteractive(key) {\n",
              "          const element = document.querySelector('#df-abe8aa48-ebe4-4f41-9d86-09fbf73ed5d4');\n",
              "          const dataTable =\n",
              "            await google.colab.kernel.invokeFunction('convertToInteractive',\n",
              "                                                     [key], {});\n",
              "          if (!dataTable) return;\n",
              "\n",
              "          const docLinkHtml = 'Like what you see? Visit the ' +\n",
              "            '<a target=\"_blank\" href=https://colab.research.google.com/notebooks/data_table.ipynb>data table notebook</a>'\n",
              "            + ' to learn more about interactive tables.';\n",
              "          element.innerHTML = '';\n",
              "          dataTable['output_type'] = 'display_data';\n",
              "          await google.colab.output.renderOutput(dataTable, element);\n",
              "          const docLink = document.createElement('div');\n",
              "          docLink.innerHTML = docLinkHtml;\n",
              "          element.appendChild(docLink);\n",
              "        }\n",
              "      </script>\n",
              "    </div>\n",
              "  </div>\n",
              "  "
            ]
          },
          "metadata": {},
          "execution_count": 124
        }
      ]
    },
    {
      "cell_type": "markdown",
      "source": [
        "## 3.3 Changing Date Format\n",
        "Now, I am going to change the date column so it matches a format that is better for graphing(YYYY-MM-DD)."
      ],
      "metadata": {
        "id": "V0YYM8jdLIX1"
      }
    },
    {
      "cell_type": "code",
      "source": [
        "states['date']= states['submission_date']\n",
        "\n",
        "for index, c in states.iterrows():\n",
        "  states.at[index, 'date'] = re.search('(\\d{4})', c['submission_date']).group() + '-'  + re.search(r'^(\\d{2})', c['submission_date']).group() + '-' + (re.search(r'\\/(\\d{2})\\/', c['submission_date']).group())[1:3]\n",
        "\n",
        "states = states.drop('submission_date', axis=1)\n",
        "states.head()"
      ],
      "metadata": {
        "colab": {
          "base_uri": "https://localhost:8080/",
          "height": 204
        },
        "id": "ZnuKUDqRLJAN",
        "outputId": "af7e43e5-e694-44a1-aadb-bfed9a7df1b9"
      },
      "execution_count": 126,
      "outputs": [
        {
          "output_type": "execute_result",
          "data": {
            "text/plain": [
              "  state  tot_cases  new_case  tot_death  new_death        date\n",
              "0    KS     621273     19414       7162         21  2022-01-14\n",
              "1    AS         11         0          0          0  2022-01-02\n",
              "2    AR      56199       547        674         11  2020-08-22\n",
              "3    PW          0         0          0          0  2021-05-09\n",
              "4    UT     636992         0       3787          0  2022-01-01"
            ],
            "text/html": [
              "\n",
              "  <div id=\"df-786dfc6b-53d5-40c9-9939-6d352f2c59a4\">\n",
              "    <div class=\"colab-df-container\">\n",
              "      <div>\n",
              "<style scoped>\n",
              "    .dataframe tbody tr th:only-of-type {\n",
              "        vertical-align: middle;\n",
              "    }\n",
              "\n",
              "    .dataframe tbody tr th {\n",
              "        vertical-align: top;\n",
              "    }\n",
              "\n",
              "    .dataframe thead th {\n",
              "        text-align: right;\n",
              "    }\n",
              "</style>\n",
              "<table border=\"1\" class=\"dataframe\">\n",
              "  <thead>\n",
              "    <tr style=\"text-align: right;\">\n",
              "      <th></th>\n",
              "      <th>state</th>\n",
              "      <th>tot_cases</th>\n",
              "      <th>new_case</th>\n",
              "      <th>tot_death</th>\n",
              "      <th>new_death</th>\n",
              "      <th>date</th>\n",
              "    </tr>\n",
              "  </thead>\n",
              "  <tbody>\n",
              "    <tr>\n",
              "      <th>0</th>\n",
              "      <td>KS</td>\n",
              "      <td>621273</td>\n",
              "      <td>19414</td>\n",
              "      <td>7162</td>\n",
              "      <td>21</td>\n",
              "      <td>2022-01-14</td>\n",
              "    </tr>\n",
              "    <tr>\n",
              "      <th>1</th>\n",
              "      <td>AS</td>\n",
              "      <td>11</td>\n",
              "      <td>0</td>\n",
              "      <td>0</td>\n",
              "      <td>0</td>\n",
              "      <td>2022-01-02</td>\n",
              "    </tr>\n",
              "    <tr>\n",
              "      <th>2</th>\n",
              "      <td>AR</td>\n",
              "      <td>56199</td>\n",
              "      <td>547</td>\n",
              "      <td>674</td>\n",
              "      <td>11</td>\n",
              "      <td>2020-08-22</td>\n",
              "    </tr>\n",
              "    <tr>\n",
              "      <th>3</th>\n",
              "      <td>PW</td>\n",
              "      <td>0</td>\n",
              "      <td>0</td>\n",
              "      <td>0</td>\n",
              "      <td>0</td>\n",
              "      <td>2021-05-09</td>\n",
              "    </tr>\n",
              "    <tr>\n",
              "      <th>4</th>\n",
              "      <td>UT</td>\n",
              "      <td>636992</td>\n",
              "      <td>0</td>\n",
              "      <td>3787</td>\n",
              "      <td>0</td>\n",
              "      <td>2022-01-01</td>\n",
              "    </tr>\n",
              "  </tbody>\n",
              "</table>\n",
              "</div>\n",
              "      <button class=\"colab-df-convert\" onclick=\"convertToInteractive('df-786dfc6b-53d5-40c9-9939-6d352f2c59a4')\"\n",
              "              title=\"Convert this dataframe to an interactive table.\"\n",
              "              style=\"display:none;\">\n",
              "        \n",
              "  <svg xmlns=\"http://www.w3.org/2000/svg\" height=\"24px\"viewBox=\"0 0 24 24\"\n",
              "       width=\"24px\">\n",
              "    <path d=\"M0 0h24v24H0V0z\" fill=\"none\"/>\n",
              "    <path d=\"M18.56 5.44l.94 2.06.94-2.06 2.06-.94-2.06-.94-.94-2.06-.94 2.06-2.06.94zm-11 1L8.5 8.5l.94-2.06 2.06-.94-2.06-.94L8.5 2.5l-.94 2.06-2.06.94zm10 10l.94 2.06.94-2.06 2.06-.94-2.06-.94-.94-2.06-.94 2.06-2.06.94z\"/><path d=\"M17.41 7.96l-1.37-1.37c-.4-.4-.92-.59-1.43-.59-.52 0-1.04.2-1.43.59L10.3 9.45l-7.72 7.72c-.78.78-.78 2.05 0 2.83L4 21.41c.39.39.9.59 1.41.59.51 0 1.02-.2 1.41-.59l7.78-7.78 2.81-2.81c.8-.78.8-2.07 0-2.86zM5.41 20L4 18.59l7.72-7.72 1.47 1.35L5.41 20z\"/>\n",
              "  </svg>\n",
              "      </button>\n",
              "      \n",
              "  <style>\n",
              "    .colab-df-container {\n",
              "      display:flex;\n",
              "      flex-wrap:wrap;\n",
              "      gap: 12px;\n",
              "    }\n",
              "\n",
              "    .colab-df-convert {\n",
              "      background-color: #E8F0FE;\n",
              "      border: none;\n",
              "      border-radius: 50%;\n",
              "      cursor: pointer;\n",
              "      display: none;\n",
              "      fill: #1967D2;\n",
              "      height: 32px;\n",
              "      padding: 0 0 0 0;\n",
              "      width: 32px;\n",
              "    }\n",
              "\n",
              "    .colab-df-convert:hover {\n",
              "      background-color: #E2EBFA;\n",
              "      box-shadow: 0px 1px 2px rgba(60, 64, 67, 0.3), 0px 1px 3px 1px rgba(60, 64, 67, 0.15);\n",
              "      fill: #174EA6;\n",
              "    }\n",
              "\n",
              "    [theme=dark] .colab-df-convert {\n",
              "      background-color: #3B4455;\n",
              "      fill: #D2E3FC;\n",
              "    }\n",
              "\n",
              "    [theme=dark] .colab-df-convert:hover {\n",
              "      background-color: #434B5C;\n",
              "      box-shadow: 0px 1px 3px 1px rgba(0, 0, 0, 0.15);\n",
              "      filter: drop-shadow(0px 1px 2px rgba(0, 0, 0, 0.3));\n",
              "      fill: #FFFFFF;\n",
              "    }\n",
              "  </style>\n",
              "\n",
              "      <script>\n",
              "        const buttonEl =\n",
              "          document.querySelector('#df-786dfc6b-53d5-40c9-9939-6d352f2c59a4 button.colab-df-convert');\n",
              "        buttonEl.style.display =\n",
              "          google.colab.kernel.accessAllowed ? 'block' : 'none';\n",
              "\n",
              "        async function convertToInteractive(key) {\n",
              "          const element = document.querySelector('#df-786dfc6b-53d5-40c9-9939-6d352f2c59a4');\n",
              "          const dataTable =\n",
              "            await google.colab.kernel.invokeFunction('convertToInteractive',\n",
              "                                                     [key], {});\n",
              "          if (!dataTable) return;\n",
              "\n",
              "          const docLinkHtml = 'Like what you see? Visit the ' +\n",
              "            '<a target=\"_blank\" href=https://colab.research.google.com/notebooks/data_table.ipynb>data table notebook</a>'\n",
              "            + ' to learn more about interactive tables.';\n",
              "          element.innerHTML = '';\n",
              "          dataTable['output_type'] = 'display_data';\n",
              "          await google.colab.output.renderOutput(dataTable, element);\n",
              "          const docLink = document.createElement('div');\n",
              "          docLink.innerHTML = docLinkHtml;\n",
              "          element.appendChild(docLink);\n",
              "        }\n",
              "      </script>\n",
              "    </div>\n",
              "  </div>\n",
              "  "
            ]
          },
          "metadata": {},
          "execution_count": 126
        }
      ]
    },
    {
      "cell_type": "markdown",
      "source": [
        "# 4 US COVID Plots\n",
        "Data visualisations are a useful tool when trying to understand the pandemic. Throughout the pandemic, finding data visualisations has been difficult, so various data visualisations have been provided here. These plots showcase case and death data in the US."
      ],
      "metadata": {
        "id": "vWTDF2OcOSA1"
      }
    },
    {
      "cell_type": "markdown",
      "source": [
        "## 4.1 US Cumulative Cases Plot\n",
        "This plot showcases cumulative cases in the US since the beginning of the pandemic"
      ],
      "metadata": {
        "id": "7RlBZ_aiGK7c"
      }
    },
    {
      "cell_type": "code",
      "source": [
        "cumulcases = states.drop('new_case', axis=1)\n",
        "cumulcases = cumulcases.drop('tot_death', axis=1)\n",
        "cumulcases = cumulcases.drop('new_death', axis=1)\n",
        "\n",
        "cumulcases = cumulcases.groupby('date').sum()\n",
        "\n",
        "cumulcases.plot()"
      ],
      "metadata": {
        "colab": {
          "base_uri": "https://localhost:8080/",
          "height": 307
        },
        "id": "n5hrtd3vKg_G",
        "outputId": "f76a5f05-b0c4-4398-e0c1-20d0273dc0ae"
      },
      "execution_count": 153,
      "outputs": [
        {
          "output_type": "execute_result",
          "data": {
            "text/plain": [
              "<matplotlib.axes._subplots.AxesSubplot at 0x7f9b8ddb0610>"
            ]
          },
          "metadata": {},
          "execution_count": 153
        },
        {
          "output_type": "display_data",
          "data": {
            "text/plain": [
              "<Figure size 432x288 with 1 Axes>"
            ],
            "image/png": "[encoded data removed]"
          },
          "metadata": {
            "needs_background": "light"
          }
        }
      ]
    },
    {
      "cell_type": "markdown",
      "source": [
        "## 4.2 US Cumulative Deaths Plot\n",
        "This plot showcases cumulative deaths in the US since the beginning of the pandemic. The cases and deaths graphs have a strong correlation."
      ],
      "metadata": {
        "id": "vViFucl2G3dn"
      }
    },
    {
      "cell_type": "code",
      "source": [
        "cumuldeaths = states.drop('new_case', axis=1)\n",
        "cumuldeaths = cumuldeaths.drop('tot_cases', axis=1)\n",
        "cumuldeaths = cumuldeaths.drop('new_death', axis=1)\n",
        "\n",
        "cumuldeaths = cumuldeaths.groupby('date').sum()\n",
        "\n",
        "cumuldeaths.plot()"
      ],
      "metadata": {
        "colab": {
          "base_uri": "https://localhost:8080/",
          "height": 307
        },
        "id": "mFROh-u0zWui",
        "outputId": "04b83b6d-cfbe-44f6-8e38-8a922615cadd"
      },
      "execution_count": 130,
      "outputs": [
        {
          "output_type": "execute_result",
          "data": {
            "text/plain": [
              "<matplotlib.axes._subplots.AxesSubplot at 0x7f9b9be51310>"
            ]
          },
          "metadata": {},
          "execution_count": 130
        },
        {
          "output_type": "display_data",
          "data": {
            "text/plain": [
              "<Figure size 432x288 with 1 Axes>"
            ],
            "image/png": "[encoded data removed]"
          },
          "metadata": {
            "needs_background": "light"
          }
        }
      ]
    },
    {
      "cell_type": "markdown",
      "source": [
        "## 4.3 US Time Series Cases Plot\n",
        "This plot showcases new daily cases in the US since the beginning of the pandemic."
      ],
      "metadata": {
        "id": "t9u3ouzsMdDH"
      }
    },
    {
      "cell_type": "code",
      "source": [
        "newcases = states.drop('tot_cases', axis=1)\n",
        "newcases = newcases.drop('tot_death', axis=1)\n",
        "newcases = newcases.drop('new_death', axis=1)\n",
        "\n",
        "newcases = newcases.groupby('date').sum()\n",
        "\n",
        "newcases.plot()"
      ],
      "metadata": {
        "colab": {
          "base_uri": "https://localhost:8080/",
          "height": 307
        },
        "id": "gDuXH7PpMlUl",
        "outputId": "03a7ff57-8d11-45b0-a054-e33cfd2209f8"
      },
      "execution_count": 131,
      "outputs": [
        {
          "output_type": "execute_result",
          "data": {
            "text/plain": [
              "<matplotlib.axes._subplots.AxesSubplot at 0x7f9b8e3752d0>"
            ]
          },
          "metadata": {},
          "execution_count": 131
        },
        {
          "output_type": "display_data",
          "data": {
            "text/plain": [
              "<Figure size 432x288 with 1 Axes>"
            ],
            "image/png": "[encoded data removed]"
          },
          "metadata": {
            "needs_background": "light"
          }
        }
      ]
    },
    {
      "cell_type": "markdown",
      "source": [
        "## 4.4 US Time Series Deaths Plot\n",
        "This plot showcases new daily deaths in the US since the beginning of the pandemic. This plot also shadows the daily cases plot. The variation in reporting and deaths per day creates a large amount of variance in the day-to-day cases. "
      ],
      "metadata": {
        "id": "JK_qo9U8MvBK"
      }
    },
    {
      "cell_type": "code",
      "source": [
        "newdeaths = states.drop('tot_cases', axis=1)\n",
        "newdeaths = newdeaths.drop('new_case', axis=1)\n",
        "newdeaths = newdeaths.drop('tot_death', axis=1)\n",
        "\n",
        "newdeaths = newdeaths.groupby('date').sum()\n",
        "\n",
        "newdeaths.plot()"
      ],
      "metadata": {
        "colab": {
          "base_uri": "https://localhost:8080/",
          "height": 296
        },
        "id": "M-KOIEVSM72x",
        "outputId": "862b29d1-8c4d-4581-8394-5db67df66a47"
      },
      "execution_count": 133,
      "outputs": [
        {
          "output_type": "execute_result",
          "data": {
            "text/plain": [
              "<matplotlib.axes._subplots.AxesSubplot at 0x7f9b8e2f97d0>"
            ]
          },
          "metadata": {},
          "execution_count": 133
        },
        {
          "output_type": "display_data",
          "data": {
            "text/plain": [
              "<Figure size 432x288 with 1 Axes>"
            ],
            "image/png": "[encoded data removed]"
          },
          "metadata": {
            "needs_background": "light"
          }
        }
      ]
    },
    {
      "cell_type": "markdown",
      "source": [
        "# 5 New York COVID Plots\n",
        "Since New York State hospitalization data is going to be used, various plots will be displayed here showing New York's COVID data. There are some outliers/data corrections in this dataset that are visible on the graphs(such as a decrease in cumulative deaths). These are caused by errors in data collection."
      ],
      "metadata": {
        "id": "mrR8ghVkOqx8"
      }
    },
    {
      "cell_type": "markdown",
      "source": [
        "## 5.1 New York Cumulative Cases\n",
        "This plot showcases cumulative cases in New York State since the beginning of the pandemic.\n"
      ],
      "metadata": {
        "id": "LOHI2werNj9K"
      }
    },
    {
      "cell_type": "code",
      "source": [
        "nycumulcases = states.drop('new_case', axis=1)\n",
        "nycumulcases = nycumulcases.drop('tot_death', axis=1)\n",
        "nycumulcases = nycumulcases.drop('new_death', axis=1)\n",
        "\n",
        "nycumulcases = nycumulcases[nycumulcases.state == \"NY\"]\n",
        "nycumulcases = nycumulcases.groupby('date').sum()\n",
        "\n",
        "nycumulcases.plot()"
      ],
      "metadata": {
        "colab": {
          "base_uri": "https://localhost:8080/",
          "height": 307
        },
        "id": "UCGTLA3nNjqI",
        "outputId": "5ea1360d-e258-44b9-823e-96f89872ec5f"
      },
      "execution_count": 154,
      "outputs": [
        {
          "output_type": "execute_result",
          "data": {
            "text/plain": [
              "<matplotlib.axes._subplots.AxesSubplot at 0x7f9b8e9156d0>"
            ]
          },
          "metadata": {},
          "execution_count": 154
        },
        {
          "output_type": "display_data",
          "data": {
            "text/plain": [
              "<Figure size 432x288 with 1 Axes>"
            ],
            "image/png": "[encoded data removed]"
          },
          "metadata": {
            "needs_background": "light"
          }
        }
      ]
    },
    {
      "cell_type": "markdown",
      "source": [
        "## 5.2 New York Cumulative Deaths\n",
        "This plot showcases cumulative deaths in New York State since the beginning of the pandemic. This plot correlates with the cases plot."
      ],
      "metadata": {
        "id": "K_iX-YIPSMAl"
      }
    },
    {
      "cell_type": "code",
      "source": [
        "nycumuldeaths = states.drop('new_case', axis=1)\n",
        "nycumuldeaths = nycumuldeaths.drop('tot_cases', axis=1)\n",
        "nycumuldeaths = nycumuldeaths.drop('new_death', axis=1)\n",
        "\n",
        "nycumuldeaths = nycumuldeaths[nycumuldeaths.state == \"NY\"]\n",
        "nycumuldeaths = nycumuldeaths.groupby('date').sum()\n",
        "\n",
        "nycumuldeaths.plot()"
      ],
      "metadata": {
        "colab": {
          "base_uri": "https://localhost:8080/",
          "height": 296
        },
        "id": "EfKlACtPSVix",
        "outputId": "e6277424-cf77-42ea-c7f4-5df1a5c802a7"
      },
      "execution_count": 155,
      "outputs": [
        {
          "output_type": "execute_result",
          "data": {
            "text/plain": [
              "<matplotlib.axes._subplots.AxesSubplot at 0x7f9b8d6b3290>"
            ]
          },
          "metadata": {},
          "execution_count": 155
        },
        {
          "output_type": "display_data",
          "data": {
            "text/plain": [
              "<Figure size 432x288 with 1 Axes>"
            ],
            "image/png": "[encoded data removed]"
          },
          "metadata": {
            "needs_background": "light"
          }
        }
      ]
    },
    {
      "cell_type": "markdown",
      "source": [
        "## 5.3 New York Time Series Cases Plot\n",
        "This plot showcases new daily cases in the New York State since the beginning of the pandemic."
      ],
      "metadata": {
        "id": "WKbVhvDgSjmr"
      }
    },
    {
      "cell_type": "code",
      "source": [
        "nydailycases = states.drop('tot_cases', axis=1)\n",
        "nydailycases = nydailycases.drop('tot_death', axis=1)\n",
        "nydailycases = nydailycases.drop('new_death', axis=1)\n",
        "\n",
        "nydailycases = nydailycases[nydailycases.state == \"NY\"]\n",
        "nydailycases = nydailycases.groupby('date').sum()\n",
        "\n",
        "nydailycases.plot()"
      ],
      "metadata": {
        "colab": {
          "base_uri": "https://localhost:8080/",
          "height": 296
        },
        "id": "_smYCT4ISj70",
        "outputId": "cd861541-b280-41ae-8eea-a19de0f55561"
      },
      "execution_count": 156,
      "outputs": [
        {
          "output_type": "execute_result",
          "data": {
            "text/plain": [
              "<matplotlib.axes._subplots.AxesSubplot at 0x7f9b9073a590>"
            ]
          },
          "metadata": {},
          "execution_count": 156
        },
        {
          "output_type": "display_data",
          "data": {
            "text/plain": [
              "<Figure size 432x288 with 1 Axes>"
            ],
            "image/png": "[encoded data removed]"
          },
          "metadata": {
            "needs_background": "light"
          }
        }
      ]
    },
    {
      "cell_type": "markdown",
      "source": [
        "## 5.4 New York Time Series Deaths Plot\n",
        "This plot showcases new daily deaths in the New York State since the beginning of the pandemic."
      ],
      "metadata": {
        "id": "bfzbyy_uSkVT"
      }
    },
    {
      "cell_type": "code",
      "source": [
        "nydailydeaths = states.drop('tot_cases', axis=1)\n",
        "nydailydeaths = nydailydeaths.drop('tot_death', axis=1)\n",
        "nydailydeaths = nydailydeaths.drop('new_case', axis=1)\n",
        "\n",
        "nydailydeaths = nydailydeaths[nydailydeaths.state == \"NY\"]\n",
        "nydailydeaths = nydailydeaths.groupby('date').sum()\n",
        "\n",
        "nydailydeaths.plot()"
      ],
      "metadata": {
        "colab": {
          "base_uri": "https://localhost:8080/",
          "height": 299
        },
        "id": "Bq6rT4NJSkv5",
        "outputId": "caba51b6-5465-4c1d-cc91-1d0e34c07528"
      },
      "execution_count": 157,
      "outputs": [
        {
          "output_type": "execute_result",
          "data": {
            "text/plain": [
              "<matplotlib.axes._subplots.AxesSubplot at 0x7f9b94362190>"
            ]
          },
          "metadata": {},
          "execution_count": 157
        },
        {
          "output_type": "display_data",
          "data": {
            "text/plain": [
              "<Figure size 432x288 with 1 Axes>"
            ],
            "image/png": "[encoded data removed]"
          },
          "metadata": {
            "needs_background": "light"
          }
        }
      ]
    },
    {
      "cell_type": "markdown",
      "source": [
        "## Summary of 3 and 4\n",
        "These plots all peak and trought at similar times, since New York State experienced waves of the pandemic at the same time as the rest of the country and a spike in cases is usually followed by a spike in deaths 2 weeks later. There are differences between New York State's plots and the US plots. For example, New York had its peak deaths during the first wave, at the beginning of the pandemic and smaller peaks during other waves, whereas the US as a whole had its peak deaths during its most recent wave. The Unites States' other major spike also reached a very high level of deaths, similar to its first peak and most recent peak. These variations between New York State and the US are due to differences in how NY handled the pandemic, including but not limited to lockdown restrictions, ICU capacity, travel of residents, and more. \n",
        "\n",
        "In addition, each peak during the pandemic had a different ratio of cases and deaths. There have been 5 major peaks in the US, each caused by a different reason. The original peak, in 2020 was due to the original strain of COVID. The US healthcare system was not prepared and COVID spread a lot."
      ],
      "metadata": {
        "id": "dSjeV0jPTmDU"
      }
    },
    {
      "cell_type": "markdown",
      "source": [
        "# 6 New York State Hospitalization Data\n",
        "\n",
        "The dataset I am using showcases hospitalization data in New York State since the beginning of the pandemic.\n",
        "This dataset is incredibly detailed, and contains a row for each healthcare facility for each day, as well as plenty of other information regarding the facility and the patients at the facility that aren't neccesary for this analysis, so they will be removed."
      ],
      "metadata": {
        "id": "v7BCjJWmLtfV"
      }
    },
    {
      "cell_type": "markdown",
      "source": [
        "## 6.1 The Dataset"
      ],
      "metadata": {
        "id": "MG8eBJa1XKkr"
      }
    },
    {
      "cell_type": "code",
      "source": [
        "nyhosp = pd.read_csv(\"New_York_State_Statewide_COVID-19_Hospitalizations_and_Beds.csv\")\n",
        "nyhosp.head()"
      ],
      "metadata": {
        "colab": {
          "base_uri": "https://localhost:8080/",
          "height": 688
        },
        "id": "_FznQht82JaL",
        "outputId": "7e3ebf7f-ffcd-4230-beed-203e00e75fef"
      },
      "execution_count": 167,
      "outputs": [
        {
          "output_type": "execute_result",
          "data": {
            "text/plain": [
              "   As of Date  Facility PFI  \\\n",
              "0  03/26/2020             1   \n",
              "1  03/26/2020             5   \n",
              "2  03/26/2020            37   \n",
              "3  03/26/2020            39   \n",
              "4  03/26/2020            42   \n",
              "\n",
              "                                       Facility Name  \\\n",
              "0                     ALBANY MEDICAL CENTER HOSPITAL   \n",
              "1                                 ST PETERS HOSPITAL   \n",
              "2                         CUBA MEMORIAL HOSPITAL INC   \n",
              "3  MEMORIAL HOSP OF WM F AND GERTRUDE F JONES AKA...   \n",
              "4  UNITED HEALTH SERVICES HOSPITALS INC - BINGHAM...   \n",
              "\n",
              "                         DOH Region Facility County  \\\n",
              "0  CAPITAL DISTRICT REGIONAL OFFICE          ALBANY   \n",
              "1  CAPITAL DISTRICT REGIONAL OFFICE          ALBANY   \n",
              "2           WESTERN REGIONAL OFFICE        ALLEGANY   \n",
              "3           WESTERN REGIONAL OFFICE        ALLEGANY   \n",
              "4           CENTRAL REGIONAL OFFICE          BROOME   \n",
              "\n",
              "                         Facility Network NY Forward Region  \\\n",
              "0                   ALBANY MEDICAL CENTER    CAPITAL REGION   \n",
              "1              ST. PETERS HEALTH PARTNERS    CAPITAL REGION   \n",
              "2                             INDEPENDENT  WESTERN NEW YORK   \n",
              "3  UNIVERSITY OF ROCHESTER MEDICAL CENTER  WESTERN NEW YORK   \n",
              "4  UNITED HEALTH SERVICES HOSPITALS, INC.     SOUTHERN TIER   \n",
              "\n",
              "   Patients Currently Hospitalized  Patients Admitted Due to COVID  \\\n",
              "0                             12.0                             NaN   \n",
              "1                             10.0                             NaN   \n",
              "2                              0.0                             NaN   \n",
              "3                              0.0                             NaN   \n",
              "4                              0.0                             NaN   \n",
              "\n",
              "   Patients Admitted Not Due to COVID  ...  Patients Age Less Than 1 Year  \\\n",
              "0                                 NaN  ...                            1.0   \n",
              "1                                 NaN  ...                            0.0   \n",
              "2                                 NaN  ...                            0.0   \n",
              "3                                 NaN  ...                            0.0   \n",
              "4                                 NaN  ...                            0.0   \n",
              "\n",
              "   Patients Age 1 To 4 Years  Patients Age 5 to 19 Years  \\\n",
              "0                        0.0                         0.0   \n",
              "1                        0.0                         0.0   \n",
              "2                        0.0                         0.0   \n",
              "3                        0.0                         0.0   \n",
              "4                        0.0                         0.0   \n",
              "\n",
              "   Patients Age 20 to 44 Years  Patients Age 45 to 54 Years  \\\n",
              "0                          1.0                          0.0   \n",
              "1                          0.0                          0.0   \n",
              "2                          0.0                          0.0   \n",
              "3                          0.0                          0.0   \n",
              "4                          0.0                          0.0   \n",
              "\n",
              "   Patients Age 55 to 64 Years  Patients Age 65 to 74 Years  \\\n",
              "0                          4.0                          3.0   \n",
              "1                          3.0                          4.0   \n",
              "2                          0.0                          0.0   \n",
              "3                          0.0                          0.0   \n",
              "4                          0.0                          0.0   \n",
              "\n",
              "   Patients Age 75 to 84 Years  Patients Age Greater Than 85 Years  \\\n",
              "0                          2.0                                 1.0   \n",
              "1                          2.0                                 1.0   \n",
              "2                          0.0                                 0.0   \n",
              "3                          0.0                                 0.0   \n",
              "4                          0.0                                 0.0   \n",
              "\n",
              "   Hospitalized Indicator  \n",
              "0                       0  \n",
              "1                       0  \n",
              "2                       0  \n",
              "3                       0  \n",
              "4                       0  \n",
              "\n",
              "[5 rows x 37 columns]"
            ],
            "text/html": [
              "\n",
              "  <div id=\"df-1a23011d-0a83-408b-928e-feaa76d788aa\">\n",
              "    <div class=\"colab-df-container\">\n",
              "      <div>\n",
              "<style scoped>\n",
              "    .dataframe tbody tr th:only-of-type {\n",
              "        vertical-align: middle;\n",
              "    }\n",
              "\n",
              "    .dataframe tbody tr th {\n",
              "        vertical-align: top;\n",
              "    }\n",
              "\n",
              "    .dataframe thead th {\n",
              "        text-align: right;\n",
              "    }\n",
              "</style>\n",
              "<table border=\"1\" class=\"dataframe\">\n",
              "  <thead>\n",
              "    <tr style=\"text-align: right;\">\n",
              "      <th></th>\n",
              "      <th>As of Date</th>\n",
              "      <th>Facility PFI</th>\n",
              "      <th>Facility Name</th>\n",
              "      <th>DOH Region</th>\n",
              "      <th>Facility County</th>\n",
              "      <th>Facility Network</th>\n",
              "      <th>NY Forward Region</th>\n",
              "      <th>Patients Currently Hospitalized</th>\n",
              "      <th>Patients Admitted Due to COVID</th>\n",
              "      <th>Patients Admitted Not Due to COVID</th>\n",
              "      <th>...</th>\n",
              "      <th>Patients Age Less Than 1 Year</th>\n",
              "      <th>Patients Age 1 To 4 Years</th>\n",
              "      <th>Patients Age 5 to 19 Years</th>\n",
              "      <th>Patients Age 20 to 44 Years</th>\n",
              "      <th>Patients Age 45 to 54 Years</th>\n",
              "      <th>Patients Age 55 to 64 Years</th>\n",
              "      <th>Patients Age 65 to 74 Years</th>\n",
              "      <th>Patients Age 75 to 84 Years</th>\n",
              "      <th>Patients Age Greater Than 85 Years</th>\n",
              "      <th>Hospitalized Indicator</th>\n",
              "    </tr>\n",
              "  </thead>\n",
              "  <tbody>\n",
              "    <tr>\n",
              "      <th>0</th>\n",
              "      <td>03/26/2020</td>\n",
              "      <td>1</td>\n",
              "      <td>ALBANY MEDICAL CENTER HOSPITAL</td>\n",
              "      <td>CAPITAL DISTRICT REGIONAL OFFICE</td>\n",
              "      <td>ALBANY</td>\n",
              "      <td>ALBANY MEDICAL CENTER</td>\n",
              "      <td>CAPITAL REGION</td>\n",
              "      <td>12.0</td>\n",
              "      <td>NaN</td>\n",
              "      <td>NaN</td>\n",
              "      <td>...</td>\n",
              "      <td>1.0</td>\n",
              "      <td>0.0</td>\n",
              "      <td>0.0</td>\n",
              "      <td>1.0</td>\n",
              "      <td>0.0</td>\n",
              "      <td>4.0</td>\n",
              "      <td>3.0</td>\n",
              "      <td>2.0</td>\n",
              "      <td>1.0</td>\n",
              "      <td>0</td>\n",
              "    </tr>\n",
              "    <tr>\n",
              "      <th>1</th>\n",
              "      <td>03/26/2020</td>\n",
              "      <td>5</td>\n",
              "      <td>ST PETERS HOSPITAL</td>\n",
              "      <td>CAPITAL DISTRICT REGIONAL OFFICE</td>\n",
              "      <td>ALBANY</td>\n",
              "      <td>ST. PETERS HEALTH PARTNERS</td>\n",
              "      <td>CAPITAL REGION</td>\n",
              "      <td>10.0</td>\n",
              "      <td>NaN</td>\n",
              "      <td>NaN</td>\n",
              "      <td>...</td>\n",
              "      <td>0.0</td>\n",
              "      <td>0.0</td>\n",
              "      <td>0.0</td>\n",
              "      <td>0.0</td>\n",
              "      <td>0.0</td>\n",
              "      <td>3.0</td>\n",
              "      <td>4.0</td>\n",
              "      <td>2.0</td>\n",
              "      <td>1.0</td>\n",
              "      <td>0</td>\n",
              "    </tr>\n",
              "    <tr>\n",
              "      <th>2</th>\n",
              "      <td>03/26/2020</td>\n",
              "      <td>37</td>\n",
              "      <td>CUBA MEMORIAL HOSPITAL INC</td>\n",
              "      <td>WESTERN REGIONAL OFFICE</td>\n",
              "      <td>ALLEGANY</td>\n",
              "      <td>INDEPENDENT</td>\n",
              "      <td>WESTERN NEW YORK</td>\n",
              "      <td>0.0</td>\n",
              "      <td>NaN</td>\n",
              "      <td>NaN</td>\n",
              "      <td>...</td>\n",
              "      <td>0.0</td>\n",
              "      <td>0.0</td>\n",
              "      <td>0.0</td>\n",
              "      <td>0.0</td>\n",
              "      <td>0.0</td>\n",
              "      <td>0.0</td>\n",
              "      <td>0.0</td>\n",
              "      <td>0.0</td>\n",
              "      <td>0.0</td>\n",
              "      <td>0</td>\n",
              "    </tr>\n",
              "    <tr>\n",
              "      <th>3</th>\n",
              "      <td>03/26/2020</td>\n",
              "      <td>39</td>\n",
              "      <td>MEMORIAL HOSP OF WM F AND GERTRUDE F JONES AKA...</td>\n",
              "      <td>WESTERN REGIONAL OFFICE</td>\n",
              "      <td>ALLEGANY</td>\n",
              "      <td>UNIVERSITY OF ROCHESTER MEDICAL CENTER</td>\n",
              "      <td>WESTERN NEW YORK</td>\n",
              "      <td>0.0</td>\n",
              "      <td>NaN</td>\n",
              "      <td>NaN</td>\n",
              "      <td>...</td>\n",
              "      <td>0.0</td>\n",
              "      <td>0.0</td>\n",
              "      <td>0.0</td>\n",
              "      <td>0.0</td>\n",
              "      <td>0.0</td>\n",
              "      <td>0.0</td>\n",
              "      <td>0.0</td>\n",
              "      <td>0.0</td>\n",
              "      <td>0.0</td>\n",
              "      <td>0</td>\n",
              "    </tr>\n",
              "    <tr>\n",
              "      <th>4</th>\n",
              "      <td>03/26/2020</td>\n",
              "      <td>42</td>\n",
              "      <td>UNITED HEALTH SERVICES HOSPITALS INC - BINGHAM...</td>\n",
              "      <td>CENTRAL REGIONAL OFFICE</td>\n",
              "      <td>BROOME</td>\n",
              "      <td>UNITED HEALTH SERVICES HOSPITALS, INC.</td>\n",
              "      <td>SOUTHERN TIER</td>\n",
              "      <td>0.0</td>\n",
              "      <td>NaN</td>\n",
              "      <td>NaN</td>\n",
              "      <td>...</td>\n",
              "      <td>0.0</td>\n",
              "      <td>0.0</td>\n",
              "      <td>0.0</td>\n",
              "      <td>0.0</td>\n",
              "      <td>0.0</td>\n",
              "      <td>0.0</td>\n",
              "      <td>0.0</td>\n",
              "      <td>0.0</td>\n",
              "      <td>0.0</td>\n",
              "      <td>0</td>\n",
              "    </tr>\n",
              "  </tbody>\n",
              "</table>\n",
              "<p>5 rows × 37 columns</p>\n",
              "</div>\n",
              "      <button class=\"colab-df-convert\" onclick=\"convertToInteractive('df-1a23011d-0a83-408b-928e-feaa76d788aa')\"\n",
              "              title=\"Convert this dataframe to an interactive table.\"\n",
              "              style=\"display:none;\">\n",
              "        \n",
              "  <svg xmlns=\"http://www.w3.org/2000/svg\" height=\"24px\"viewBox=\"0 0 24 24\"\n",
              "       width=\"24px\">\n",
              "    <path d=\"M0 0h24v24H0V0z\" fill=\"none\"/>\n",
              "    <path d=\"M18.56 5.44l.94 2.06.94-2.06 2.06-.94-2.06-.94-.94-2.06-.94 2.06-2.06.94zm-11 1L8.5 8.5l.94-2.06 2.06-.94-2.06-.94L8.5 2.5l-.94 2.06-2.06.94zm10 10l.94 2.06.94-2.06 2.06-.94-2.06-.94-.94-2.06-.94 2.06-2.06.94z\"/><path d=\"M17.41 7.96l-1.37-1.37c-.4-.4-.92-.59-1.43-.59-.52 0-1.04.2-1.43.59L10.3 9.45l-7.72 7.72c-.78.78-.78 2.05 0 2.83L4 21.41c.39.39.9.59 1.41.59.51 0 1.02-.2 1.41-.59l7.78-7.78 2.81-2.81c.8-.78.8-2.07 0-2.86zM5.41 20L4 18.59l7.72-7.72 1.47 1.35L5.41 20z\"/>\n",
              "  </svg>\n",
              "      </button>\n",
              "      \n",
              "  <style>\n",
              "    .colab-df-container {\n",
              "      display:flex;\n",
              "      flex-wrap:wrap;\n",
              "      gap: 12px;\n",
              "    }\n",
              "\n",
              "    .colab-df-convert {\n",
              "      background-color: #E8F0FE;\n",
              "      border: none;\n",
              "      border-radius: 50%;\n",
              "      cursor: pointer;\n",
              "      display: none;\n",
              "      fill: #1967D2;\n",
              "      height: 32px;\n",
              "      padding: 0 0 0 0;\n",
              "      width: 32px;\n",
              "    }\n",
              "\n",
              "    .colab-df-convert:hover {\n",
              "      background-color: #E2EBFA;\n",
              "      box-shadow: 0px 1px 2px rgba(60, 64, 67, 0.3), 0px 1px 3px 1px rgba(60, 64, 67, 0.15);\n",
              "      fill: #174EA6;\n",
              "    }\n",
              "\n",
              "    [theme=dark] .colab-df-convert {\n",
              "      background-color: #3B4455;\n",
              "      fill: #D2E3FC;\n",
              "    }\n",
              "\n",
              "    [theme=dark] .colab-df-convert:hover {\n",
              "      background-color: #434B5C;\n",
              "      box-shadow: 0px 1px 3px 1px rgba(0, 0, 0, 0.15);\n",
              "      filter: drop-shadow(0px 1px 2px rgba(0, 0, 0, 0.3));\n",
              "      fill: #FFFFFF;\n",
              "    }\n",
              "  </style>\n",
              "\n",
              "      <script>\n",
              "        const buttonEl =\n",
              "          document.querySelector('#df-1a23011d-0a83-408b-928e-feaa76d788aa button.colab-df-convert');\n",
              "        buttonEl.style.display =\n",
              "          google.colab.kernel.accessAllowed ? 'block' : 'none';\n",
              "\n",
              "        async function convertToInteractive(key) {\n",
              "          const element = document.querySelector('#df-1a23011d-0a83-408b-928e-feaa76d788aa');\n",
              "          const dataTable =\n",
              "            await google.colab.kernel.invokeFunction('convertToInteractive',\n",
              "                                                     [key], {});\n",
              "          if (!dataTable) return;\n",
              "\n",
              "          const docLinkHtml = 'Like what you see? Visit the ' +\n",
              "            '<a target=\"_blank\" href=https://colab.research.google.com/notebooks/data_table.ipynb>data table notebook</a>'\n",
              "            + ' to learn more about interactive tables.';\n",
              "          element.innerHTML = '';\n",
              "          dataTable['output_type'] = 'display_data';\n",
              "          await google.colab.output.renderOutput(dataTable, element);\n",
              "          const docLink = document.createElement('div');\n",
              "          docLink.innerHTML = docLinkHtml;\n",
              "          element.appendChild(docLink);\n",
              "        }\n",
              "      </script>\n",
              "    </div>\n",
              "  </div>\n",
              "  "
            ]
          },
          "metadata": {},
          "execution_count": 167
        }
      ]
    },
    {
      "cell_type": "markdown",
      "source": [
        "## 6.2 Removing Extra Columns\n",
        "Columns not used are being removed here."
      ],
      "metadata": {
        "id": "Pg9eeEXwXI9B"
      }
    },
    {
      "cell_type": "code",
      "source": [
        "nyhosp.columns"
      ],
      "metadata": {
        "colab": {
          "base_uri": "https://localhost:8080/"
        },
        "id": "QvhP6vJI3mYd",
        "outputId": "ae4ea829-b1ba-4a4e-df03-f876b8362b6d"
      },
      "execution_count": 168,
      "outputs": [
        {
          "output_type": "execute_result",
          "data": {
            "text/plain": [
              "Index(['As of Date', 'Facility PFI', 'Facility Name', 'DOH Region',\n",
              "       'Facility County', 'Facility Network', 'NY Forward Region',\n",
              "       'Patients Currently Hospitalized', 'Patients Admitted Due to COVID',\n",
              "       'Patients Admitted Not Due to COVID', 'Patients Newly Admitted',\n",
              "       'Patients Positive After Admission', 'Patients Discharged',\n",
              "       'Patients Currently in ICU', 'Patients Currently ICU Intubated',\n",
              "       'Patients Expired', 'Cumulative COVID-19 Discharges to Date',\n",
              "       'Cumulative COVID-19 Fatalities to Date', 'Total Staffed Beds',\n",
              "       'Total Staffed Beds Currently Available', 'Total Staffed ICU Beds',\n",
              "       'Total Staffed ICU Beds Currently Available',\n",
              "       'Total Staffed Acute Care Beds',\n",
              "       'Total Staffed Acute Care Beds Occupied', 'Total Staffed ICU Beds 1',\n",
              "       'Total Staffed ICU Beds Currently Occupied',\n",
              "       'Total New Admissions Reported', 'Patients Age Less Than 1 Year',\n",
              "       'Patients Age 1 To 4 Years', 'Patients Age 5 to 19 Years',\n",
              "       'Patients Age 20 to 44 Years', 'Patients Age 45 to 54 Years',\n",
              "       'Patients Age 55 to 64 Years', 'Patients Age 65 to 74 Years',\n",
              "       'Patients Age 75 to 84 Years', 'Patients Age Greater Than 85 Years',\n",
              "       'Hospitalized Indicator'],\n",
              "      dtype='object')"
            ]
          },
          "metadata": {},
          "execution_count": 168
        }
      ]
    },
    {
      "cell_type": "code",
      "source": [
        "nyhosp = nyhosp.drop('Facility PFI', axis=1)\n",
        "nyhosp = nyhosp.drop('Facility Name', axis=1)\n",
        "nyhosp = nyhosp.drop('DOH Region', axis=1)\n",
        "nyhosp = nyhosp.drop('Facility County', axis=1)\n",
        "nyhosp = nyhosp.drop('Facility Network', axis=1)\n",
        "nyhosp = nyhosp.drop('NY Forward Region', axis=1)\n",
        "nyhosp = nyhosp.drop('Patients Currently Hospitalized', axis=1)\n",
        "nyhosp = nyhosp.drop('Patients Positive After Admission', axis=1)\n",
        "nyhosp = nyhosp.drop('Patients Discharged', axis=1)\n",
        "nyhosp = nyhosp.drop('Patients Currently in ICU', axis=1)\n",
        "nyhosp = nyhosp.drop('Patients Currently ICU Intubated', axis=1)\n",
        "nyhosp = nyhosp.drop('Patients Expired', axis=1)\n",
        "nyhosp = nyhosp.drop('Cumulative COVID-19 Discharges to Date', axis=1)\n",
        "nyhosp = nyhosp.drop('Cumulative COVID-19 Fatalities to Date', axis=1)\n",
        "nyhosp = nyhosp.drop('Patients Admitted Not Due to COVID', axis=1)\n",
        "nyhosp = nyhosp.drop('Total Staffed Beds', axis=1)\n",
        "nyhosp = nyhosp.drop('Total Staffed Beds Currently Available', axis=1)\n",
        "nyhosp = nyhosp.drop('Total Staffed ICU Beds', axis=1)\n",
        "nyhosp = nyhosp.drop('Total Staffed ICU Beds Currently Available', axis=1)\n",
        "nyhosp = nyhosp.drop('Total Staffed Acute Care Beds', axis=1)\n",
        "nyhosp = nyhosp.drop('Total Staffed Acute Care Beds Occupied', axis=1)\n",
        "nyhosp = nyhosp.drop('Total Staffed ICU Beds 1', axis=1)\n",
        "nyhosp = nyhosp.drop('Total Staffed ICU Beds Currently Occupied', axis=1)\n",
        "nyhosp = nyhosp.drop('Total New Admissions Reported', axis=1)\n",
        "nyhosp = nyhosp.drop('Patients Age Less Than 1 Year', axis=1)\n",
        "nyhosp = nyhosp.drop('Patients Age 1 To 4 Years', axis=1)\n",
        "nyhosp = nyhosp.drop('Patients Age 5 to 19 Years', axis=1)\n",
        "nyhosp = nyhosp.drop('Patients Age 20 to 44 Years', axis=1)\n",
        "nyhosp = nyhosp.drop('Patients Age 45 to 54 Years', axis=1)\n",
        "nyhosp = nyhosp.drop('Patients Age 55 to 64 Years', axis=1)\n",
        "nyhosp = nyhosp.drop('Patients Age 65 to 74 Years', axis=1)\n",
        "nyhosp = nyhosp.drop('Patients Age 75 to 84 Years', axis=1)\n",
        "nyhosp = nyhosp.drop('Patients Age Greater Than 85 Years', axis=1)\n",
        "nyhosp = nyhosp.drop('Hospitalized Indicator', axis=1)\n",
        "\n",
        "\n",
        "nyhosp.head()\n"
      ],
      "metadata": {
        "colab": {
          "base_uri": "https://localhost:8080/",
          "height": 204
        },
        "id": "Lvjj5jQ6394n",
        "outputId": "23c313b7-b6e7-4c0d-85cc-0701aa3177a5"
      },
      "execution_count": 169,
      "outputs": [
        {
          "output_type": "execute_result",
          "data": {
            "text/plain": [
              "   As of Date  Patients Admitted Due to COVID  Patients Newly Admitted\n",
              "0  03/26/2020                             NaN                      1.0\n",
              "1  03/26/2020                             NaN                      0.0\n",
              "2  03/26/2020                             NaN                      0.0\n",
              "3  03/26/2020                             NaN                      0.0\n",
              "4  03/26/2020                             NaN                      0.0"
            ],
            "text/html": [
              "\n",
              "  <div id=\"df-d45a95c6-ac23-4fab-8036-f1c64595bd56\">\n",
              "    <div class=\"colab-df-container\">\n",
              "      <div>\n",
              "<style scoped>\n",
              "    .dataframe tbody tr th:only-of-type {\n",
              "        vertical-align: middle;\n",
              "    }\n",
              "\n",
              "    .dataframe tbody tr th {\n",
              "        vertical-align: top;\n",
              "    }\n",
              "\n",
              "    .dataframe thead th {\n",
              "        text-align: right;\n",
              "    }\n",
              "</style>\n",
              "<table border=\"1\" class=\"dataframe\">\n",
              "  <thead>\n",
              "    <tr style=\"text-align: right;\">\n",
              "      <th></th>\n",
              "      <th>As of Date</th>\n",
              "      <th>Patients Admitted Due to COVID</th>\n",
              "      <th>Patients Newly Admitted</th>\n",
              "    </tr>\n",
              "  </thead>\n",
              "  <tbody>\n",
              "    <tr>\n",
              "      <th>0</th>\n",
              "      <td>03/26/2020</td>\n",
              "      <td>NaN</td>\n",
              "      <td>1.0</td>\n",
              "    </tr>\n",
              "    <tr>\n",
              "      <th>1</th>\n",
              "      <td>03/26/2020</td>\n",
              "      <td>NaN</td>\n",
              "      <td>0.0</td>\n",
              "    </tr>\n",
              "    <tr>\n",
              "      <th>2</th>\n",
              "      <td>03/26/2020</td>\n",
              "      <td>NaN</td>\n",
              "      <td>0.0</td>\n",
              "    </tr>\n",
              "    <tr>\n",
              "      <th>3</th>\n",
              "      <td>03/26/2020</td>\n",
              "      <td>NaN</td>\n",
              "      <td>0.0</td>\n",
              "    </tr>\n",
              "    <tr>\n",
              "      <th>4</th>\n",
              "      <td>03/26/2020</td>\n",
              "      <td>NaN</td>\n",
              "      <td>0.0</td>\n",
              "    </tr>\n",
              "  </tbody>\n",
              "</table>\n",
              "</div>\n",
              "      <button class=\"colab-df-convert\" onclick=\"convertToInteractive('df-d45a95c6-ac23-4fab-8036-f1c64595bd56')\"\n",
              "              title=\"Convert this dataframe to an interactive table.\"\n",
              "              style=\"display:none;\">\n",
              "        \n",
              "  <svg xmlns=\"http://www.w3.org/2000/svg\" height=\"24px\"viewBox=\"0 0 24 24\"\n",
              "       width=\"24px\">\n",
              "    <path d=\"M0 0h24v24H0V0z\" fill=\"none\"/>\n",
              "    <path d=\"M18.56 5.44l.94 2.06.94-2.06 2.06-.94-2.06-.94-.94-2.06-.94 2.06-2.06.94zm-11 1L8.5 8.5l.94-2.06 2.06-.94-2.06-.94L8.5 2.5l-.94 2.06-2.06.94zm10 10l.94 2.06.94-2.06 2.06-.94-2.06-.94-.94-2.06-.94 2.06-2.06.94z\"/><path d=\"M17.41 7.96l-1.37-1.37c-.4-.4-.92-.59-1.43-.59-.52 0-1.04.2-1.43.59L10.3 9.45l-7.72 7.72c-.78.78-.78 2.05 0 2.83L4 21.41c.39.39.9.59 1.41.59.51 0 1.02-.2 1.41-.59l7.78-7.78 2.81-2.81c.8-.78.8-2.07 0-2.86zM5.41 20L4 18.59l7.72-7.72 1.47 1.35L5.41 20z\"/>\n",
              "  </svg>\n",
              "      </button>\n",
              "      \n",
              "  <style>\n",
              "    .colab-df-container {\n",
              "      display:flex;\n",
              "      flex-wrap:wrap;\n",
              "      gap: 12px;\n",
              "    }\n",
              "\n",
              "    .colab-df-convert {\n",
              "      background-color: #E8F0FE;\n",
              "      border: none;\n",
              "      border-radius: 50%;\n",
              "      cursor: pointer;\n",
              "      display: none;\n",
              "      fill: #1967D2;\n",
              "      height: 32px;\n",
              "      padding: 0 0 0 0;\n",
              "      width: 32px;\n",
              "    }\n",
              "\n",
              "    .colab-df-convert:hover {\n",
              "      background-color: #E2EBFA;\n",
              "      box-shadow: 0px 1px 2px rgba(60, 64, 67, 0.3), 0px 1px 3px 1px rgba(60, 64, 67, 0.15);\n",
              "      fill: #174EA6;\n",
              "    }\n",
              "\n",
              "    [theme=dark] .colab-df-convert {\n",
              "      background-color: #3B4455;\n",
              "      fill: #D2E3FC;\n",
              "    }\n",
              "\n",
              "    [theme=dark] .colab-df-convert:hover {\n",
              "      background-color: #434B5C;\n",
              "      box-shadow: 0px 1px 3px 1px rgba(0, 0, 0, 0.15);\n",
              "      filter: drop-shadow(0px 1px 2px rgba(0, 0, 0, 0.3));\n",
              "      fill: #FFFFFF;\n",
              "    }\n",
              "  </style>\n",
              "\n",
              "      <script>\n",
              "        const buttonEl =\n",
              "          document.querySelector('#df-d45a95c6-ac23-4fab-8036-f1c64595bd56 button.colab-df-convert');\n",
              "        buttonEl.style.display =\n",
              "          google.colab.kernel.accessAllowed ? 'block' : 'none';\n",
              "\n",
              "        async function convertToInteractive(key) {\n",
              "          const element = document.querySelector('#df-d45a95c6-ac23-4fab-8036-f1c64595bd56');\n",
              "          const dataTable =\n",
              "            await google.colab.kernel.invokeFunction('convertToInteractive',\n",
              "                                                     [key], {});\n",
              "          if (!dataTable) return;\n",
              "\n",
              "          const docLinkHtml = 'Like what you see? Visit the ' +\n",
              "            '<a target=\"_blank\" href=https://colab.research.google.com/notebooks/data_table.ipynb>data table notebook</a>'\n",
              "            + ' to learn more about interactive tables.';\n",
              "          element.innerHTML = '';\n",
              "          dataTable['output_type'] = 'display_data';\n",
              "          await google.colab.output.renderOutput(dataTable, element);\n",
              "          const docLink = document.createElement('div');\n",
              "          docLink.innerHTML = docLinkHtml;\n",
              "          element.appendChild(docLink);\n",
              "        }\n",
              "      </script>\n",
              "    </div>\n",
              "  </div>\n",
              "  "
            ]
          },
          "metadata": {},
          "execution_count": 169
        }
      ]
    },
    {
      "cell_type": "markdown",
      "source": [
        "## 6.3 Changing Date Format and Grouping\n",
        "Now, I am going to change the date column so it matches a format that is better for graphing(YYYY-MM-DD)."
      ],
      "metadata": {
        "id": "EkT-gXF0XjOw"
      }
    },
    {
      "cell_type": "code",
      "source": [
        "nyhosp['date']= nyhosp['As of Date']\n",
        "\n",
        "for index, crash in nyhosp.iterrows():\n",
        "  nyhosp.at[index, 'date'] = re.search('(\\d{4})', crash['As of Date']).group() + '-'  + re.search(r'^(\\d{2})', crash['As of Date']).group() + '-' + (re.search(r'\\/(\\d{2})\\/', crash['As of Date']).group())[1:3]\n",
        "\n",
        "nyhosp.head()"
      ],
      "metadata": {
        "colab": {
          "base_uri": "https://localhost:8080/",
          "height": 204
        },
        "id": "yZh7f00g-JJD",
        "outputId": "b00aa5ac-a2e2-448f-8242-d5887b03ec4b"
      },
      "execution_count": 170,
      "outputs": [
        {
          "output_type": "execute_result",
          "data": {
            "text/plain": [
              "   As of Date  Patients Admitted Due to COVID  Patients Newly Admitted  \\\n",
              "0  03/26/2020                             NaN                      1.0   \n",
              "1  03/26/2020                             NaN                      0.0   \n",
              "2  03/26/2020                             NaN                      0.0   \n",
              "3  03/26/2020                             NaN                      0.0   \n",
              "4  03/26/2020                             NaN                      0.0   \n",
              "\n",
              "         date  \n",
              "0  2020-03-26  \n",
              "1  2020-03-26  \n",
              "2  2020-03-26  \n",
              "3  2020-03-26  \n",
              "4  2020-03-26  "
            ],
            "text/html": [
              "\n",
              "  <div id=\"df-194bc6f0-ffd5-44ea-867b-287b3ac20e54\">\n",
              "    <div class=\"colab-df-container\">\n",
              "      <div>\n",
              "<style scoped>\n",
              "    .dataframe tbody tr th:only-of-type {\n",
              "        vertical-align: middle;\n",
              "    }\n",
              "\n",
              "    .dataframe tbody tr th {\n",
              "        vertical-align: top;\n",
              "    }\n",
              "\n",
              "    .dataframe thead th {\n",
              "        text-align: right;\n",
              "    }\n",
              "</style>\n",
              "<table border=\"1\" class=\"dataframe\">\n",
              "  <thead>\n",
              "    <tr style=\"text-align: right;\">\n",
              "      <th></th>\n",
              "      <th>As of Date</th>\n",
              "      <th>Patients Admitted Due to COVID</th>\n",
              "      <th>Patients Newly Admitted</th>\n",
              "      <th>date</th>\n",
              "    </tr>\n",
              "  </thead>\n",
              "  <tbody>\n",
              "    <tr>\n",
              "      <th>0</th>\n",
              "      <td>03/26/2020</td>\n",
              "      <td>NaN</td>\n",
              "      <td>1.0</td>\n",
              "      <td>2020-03-26</td>\n",
              "    </tr>\n",
              "    <tr>\n",
              "      <th>1</th>\n",
              "      <td>03/26/2020</td>\n",
              "      <td>NaN</td>\n",
              "      <td>0.0</td>\n",
              "      <td>2020-03-26</td>\n",
              "    </tr>\n",
              "    <tr>\n",
              "      <th>2</th>\n",
              "      <td>03/26/2020</td>\n",
              "      <td>NaN</td>\n",
              "      <td>0.0</td>\n",
              "      <td>2020-03-26</td>\n",
              "    </tr>\n",
              "    <tr>\n",
              "      <th>3</th>\n",
              "      <td>03/26/2020</td>\n",
              "      <td>NaN</td>\n",
              "      <td>0.0</td>\n",
              "      <td>2020-03-26</td>\n",
              "    </tr>\n",
              "    <tr>\n",
              "      <th>4</th>\n",
              "      <td>03/26/2020</td>\n",
              "      <td>NaN</td>\n",
              "      <td>0.0</td>\n",
              "      <td>2020-03-26</td>\n",
              "    </tr>\n",
              "  </tbody>\n",
              "</table>\n",
              "</div>\n",
              "      <button class=\"colab-df-convert\" onclick=\"convertToInteractive('df-194bc6f0-ffd5-44ea-867b-287b3ac20e54')\"\n",
              "              title=\"Convert this dataframe to an interactive table.\"\n",
              "              style=\"display:none;\">\n",
              "        \n",
              "  <svg xmlns=\"http://www.w3.org/2000/svg\" height=\"24px\"viewBox=\"0 0 24 24\"\n",
              "       width=\"24px\">\n",
              "    <path d=\"M0 0h24v24H0V0z\" fill=\"none\"/>\n",
              "    <path d=\"M18.56 5.44l.94 2.06.94-2.06 2.06-.94-2.06-.94-.94-2.06-.94 2.06-2.06.94zm-11 1L8.5 8.5l.94-2.06 2.06-.94-2.06-.94L8.5 2.5l-.94 2.06-2.06.94zm10 10l.94 2.06.94-2.06 2.06-.94-2.06-.94-.94-2.06-.94 2.06-2.06.94z\"/><path d=\"M17.41 7.96l-1.37-1.37c-.4-.4-.92-.59-1.43-.59-.52 0-1.04.2-1.43.59L10.3 9.45l-7.72 7.72c-.78.78-.78 2.05 0 2.83L4 21.41c.39.39.9.59 1.41.59.51 0 1.02-.2 1.41-.59l7.78-7.78 2.81-2.81c.8-.78.8-2.07 0-2.86zM5.41 20L4 18.59l7.72-7.72 1.47 1.35L5.41 20z\"/>\n",
              "  </svg>\n",
              "      </button>\n",
              "      \n",
              "  <style>\n",
              "    .colab-df-container {\n",
              "      display:flex;\n",
              "      flex-wrap:wrap;\n",
              "      gap: 12px;\n",
              "    }\n",
              "\n",
              "    .colab-df-convert {\n",
              "      background-color: #E8F0FE;\n",
              "      border: none;\n",
              "      border-radius: 50%;\n",
              "      cursor: pointer;\n",
              "      display: none;\n",
              "      fill: #1967D2;\n",
              "      height: 32px;\n",
              "      padding: 0 0 0 0;\n",
              "      width: 32px;\n",
              "    }\n",
              "\n",
              "    .colab-df-convert:hover {\n",
              "      background-color: #E2EBFA;\n",
              "      box-shadow: 0px 1px 2px rgba(60, 64, 67, 0.3), 0px 1px 3px 1px rgba(60, 64, 67, 0.15);\n",
              "      fill: #174EA6;\n",
              "    }\n",
              "\n",
              "    [theme=dark] .colab-df-convert {\n",
              "      background-color: #3B4455;\n",
              "      fill: #D2E3FC;\n",
              "    }\n",
              "\n",
              "    [theme=dark] .colab-df-convert:hover {\n",
              "      background-color: #434B5C;\n",
              "      box-shadow: 0px 1px 3px 1px rgba(0, 0, 0, 0.15);\n",
              "      filter: drop-shadow(0px 1px 2px rgba(0, 0, 0, 0.3));\n",
              "      fill: #FFFFFF;\n",
              "    }\n",
              "  </style>\n",
              "\n",
              "      <script>\n",
              "        const buttonEl =\n",
              "          document.querySelector('#df-194bc6f0-ffd5-44ea-867b-287b3ac20e54 button.colab-df-convert');\n",
              "        buttonEl.style.display =\n",
              "          google.colab.kernel.accessAllowed ? 'block' : 'none';\n",
              "\n",
              "        async function convertToInteractive(key) {\n",
              "          const element = document.querySelector('#df-194bc6f0-ffd5-44ea-867b-287b3ac20e54');\n",
              "          const dataTable =\n",
              "            await google.colab.kernel.invokeFunction('convertToInteractive',\n",
              "                                                     [key], {});\n",
              "          if (!dataTable) return;\n",
              "\n",
              "          const docLinkHtml = 'Like what you see? Visit the ' +\n",
              "            '<a target=\"_blank\" href=https://colab.research.google.com/notebooks/data_table.ipynb>data table notebook</a>'\n",
              "            + ' to learn more about interactive tables.';\n",
              "          element.innerHTML = '';\n",
              "          dataTable['output_type'] = 'display_data';\n",
              "          await google.colab.output.renderOutput(dataTable, element);\n",
              "          const docLink = document.createElement('div');\n",
              "          docLink.innerHTML = docLinkHtml;\n",
              "          element.appendChild(docLink);\n",
              "        }\n",
              "      </script>\n",
              "    </div>\n",
              "  </div>\n",
              "  "
            ]
          },
          "metadata": {},
          "execution_count": 170
        }
      ]
    },
    {
      "cell_type": "markdown",
      "source": [
        "Now, I am going to group the data so each row corresponds to 1 date."
      ],
      "metadata": {
        "id": "-Kzi5XZz690w"
      }
    },
    {
      "cell_type": "code",
      "source": [
        "nyhosp = nyhosp.groupby('date').sum()\n",
        "nyhosp"
      ],
      "metadata": {
        "colab": {
          "base_uri": "https://localhost:8080/",
          "height": 450
        },
        "id": "hiy0ZZOz7Fgp",
        "outputId": "2b67bc0e-d2f1-4ca8-a70c-af6ea97bd9cd"
      },
      "execution_count": 171,
      "outputs": [
        {
          "output_type": "execute_result",
          "data": {
            "text/plain": [
              "            Patients Admitted Due to COVID  Patients Newly Admitted\n",
              "date                                                               \n",
              "2020-03-26                             0.0                    966.0\n",
              "2020-03-27                             0.0                    986.0\n",
              "2020-03-28                             0.0                   1043.0\n",
              "2020-03-29                             0.0                    926.0\n",
              "2020-03-30                             0.0                   1050.0\n",
              "...                                    ...                      ...\n",
              "2022-05-10                          1451.0                    325.0\n",
              "2022-05-11                          1478.0                    334.0\n",
              "2022-05-12                          1480.0                    334.0\n",
              "2022-05-13                          1506.0                    345.0\n",
              "2022-05-14                          1483.0                    308.0\n",
              "\n",
              "[775 rows x 2 columns]"
            ],
            "text/html": [
              "\n",
              "  <div id=\"df-07bb54a6-bb7f-4ba7-8fdc-130c5cc038af\">\n",
              "    <div class=\"colab-df-container\">\n",
              "      <div>\n",
              "<style scoped>\n",
              "    .dataframe tbody tr th:only-of-type {\n",
              "        vertical-align: middle;\n",
              "    }\n",
              "\n",
              "    .dataframe tbody tr th {\n",
              "        vertical-align: top;\n",
              "    }\n",
              "\n",
              "    .dataframe thead th {\n",
              "        text-align: right;\n",
              "    }\n",
              "</style>\n",
              "<table border=\"1\" class=\"dataframe\">\n",
              "  <thead>\n",
              "    <tr style=\"text-align: right;\">\n",
              "      <th></th>\n",
              "      <th>Patients Admitted Due to COVID</th>\n",
              "      <th>Patients Newly Admitted</th>\n",
              "    </tr>\n",
              "    <tr>\n",
              "      <th>date</th>\n",
              "      <th></th>\n",
              "      <th></th>\n",
              "    </tr>\n",
              "  </thead>\n",
              "  <tbody>\n",
              "    <tr>\n",
              "      <th>2020-03-26</th>\n",
              "      <td>0.0</td>\n",
              "      <td>966.0</td>\n",
              "    </tr>\n",
              "    <tr>\n",
              "      <th>2020-03-27</th>\n",
              "      <td>0.0</td>\n",
              "      <td>986.0</td>\n",
              "    </tr>\n",
              "    <tr>\n",
              "      <th>2020-03-28</th>\n",
              "      <td>0.0</td>\n",
              "      <td>1043.0</td>\n",
              "    </tr>\n",
              "    <tr>\n",
              "      <th>2020-03-29</th>\n",
              "      <td>0.0</td>\n",
              "      <td>926.0</td>\n",
              "    </tr>\n",
              "    <tr>\n",
              "      <th>2020-03-30</th>\n",
              "      <td>0.0</td>\n",
              "      <td>1050.0</td>\n",
              "    </tr>\n",
              "    <tr>\n",
              "      <th>...</th>\n",
              "      <td>...</td>\n",
              "      <td>...</td>\n",
              "    </tr>\n",
              "    <tr>\n",
              "      <th>2022-05-10</th>\n",
              "      <td>1451.0</td>\n",
              "      <td>325.0</td>\n",
              "    </tr>\n",
              "    <tr>\n",
              "      <th>2022-05-11</th>\n",
              "      <td>1478.0</td>\n",
              "      <td>334.0</td>\n",
              "    </tr>\n",
              "    <tr>\n",
              "      <th>2022-05-12</th>\n",
              "      <td>1480.0</td>\n",
              "      <td>334.0</td>\n",
              "    </tr>\n",
              "    <tr>\n",
              "      <th>2022-05-13</th>\n",
              "      <td>1506.0</td>\n",
              "      <td>345.0</td>\n",
              "    </tr>\n",
              "    <tr>\n",
              "      <th>2022-05-14</th>\n",
              "      <td>1483.0</td>\n",
              "      <td>308.0</td>\n",
              "    </tr>\n",
              "  </tbody>\n",
              "</table>\n",
              "<p>775 rows × 2 columns</p>\n",
              "</div>\n",
              "      <button class=\"colab-df-convert\" onclick=\"convertToInteractive('df-07bb54a6-bb7f-4ba7-8fdc-130c5cc038af')\"\n",
              "              title=\"Convert this dataframe to an interactive table.\"\n",
              "              style=\"display:none;\">\n",
              "        \n",
              "  <svg xmlns=\"http://www.w3.org/2000/svg\" height=\"24px\"viewBox=\"0 0 24 24\"\n",
              "       width=\"24px\">\n",
              "    <path d=\"M0 0h24v24H0V0z\" fill=\"none\"/>\n",
              "    <path d=\"M18.56 5.44l.94 2.06.94-2.06 2.06-.94-2.06-.94-.94-2.06-.94 2.06-2.06.94zm-11 1L8.5 8.5l.94-2.06 2.06-.94-2.06-.94L8.5 2.5l-.94 2.06-2.06.94zm10 10l.94 2.06.94-2.06 2.06-.94-2.06-.94-.94-2.06-.94 2.06-2.06.94z\"/><path d=\"M17.41 7.96l-1.37-1.37c-.4-.4-.92-.59-1.43-.59-.52 0-1.04.2-1.43.59L10.3 9.45l-7.72 7.72c-.78.78-.78 2.05 0 2.83L4 21.41c.39.39.9.59 1.41.59.51 0 1.02-.2 1.41-.59l7.78-7.78 2.81-2.81c.8-.78.8-2.07 0-2.86zM5.41 20L4 18.59l7.72-7.72 1.47 1.35L5.41 20z\"/>\n",
              "  </svg>\n",
              "      </button>\n",
              "      \n",
              "  <style>\n",
              "    .colab-df-container {\n",
              "      display:flex;\n",
              "      flex-wrap:wrap;\n",
              "      gap: 12px;\n",
              "    }\n",
              "\n",
              "    .colab-df-convert {\n",
              "      background-color: #E8F0FE;\n",
              "      border: none;\n",
              "      border-radius: 50%;\n",
              "      cursor: pointer;\n",
              "      display: none;\n",
              "      fill: #1967D2;\n",
              "      height: 32px;\n",
              "      padding: 0 0 0 0;\n",
              "      width: 32px;\n",
              "    }\n",
              "\n",
              "    .colab-df-convert:hover {\n",
              "      background-color: #E2EBFA;\n",
              "      box-shadow: 0px 1px 2px rgba(60, 64, 67, 0.3), 0px 1px 3px 1px rgba(60, 64, 67, 0.15);\n",
              "      fill: #174EA6;\n",
              "    }\n",
              "\n",
              "    [theme=dark] .colab-df-convert {\n",
              "      background-color: #3B4455;\n",
              "      fill: #D2E3FC;\n",
              "    }\n",
              "\n",
              "    [theme=dark] .colab-df-convert:hover {\n",
              "      background-color: #434B5C;\n",
              "      box-shadow: 0px 1px 3px 1px rgba(0, 0, 0, 0.15);\n",
              "      filter: drop-shadow(0px 1px 2px rgba(0, 0, 0, 0.3));\n",
              "      fill: #FFFFFF;\n",
              "    }\n",
              "  </style>\n",
              "\n",
              "      <script>\n",
              "        const buttonEl =\n",
              "          document.querySelector('#df-07bb54a6-bb7f-4ba7-8fdc-130c5cc038af button.colab-df-convert');\n",
              "        buttonEl.style.display =\n",
              "          google.colab.kernel.accessAllowed ? 'block' : 'none';\n",
              "\n",
              "        async function convertToInteractive(key) {\n",
              "          const element = document.querySelector('#df-07bb54a6-bb7f-4ba7-8fdc-130c5cc038af');\n",
              "          const dataTable =\n",
              "            await google.colab.kernel.invokeFunction('convertToInteractive',\n",
              "                                                     [key], {});\n",
              "          if (!dataTable) return;\n",
              "\n",
              "          const docLinkHtml = 'Like what you see? Visit the ' +\n",
              "            '<a target=\"_blank\" href=https://colab.research.google.com/notebooks/data_table.ipynb>data table notebook</a>'\n",
              "            + ' to learn more about interactive tables.';\n",
              "          element.innerHTML = '';\n",
              "          dataTable['output_type'] = 'display_data';\n",
              "          await google.colab.output.renderOutput(dataTable, element);\n",
              "          const docLink = document.createElement('div');\n",
              "          docLink.innerHTML = docLinkHtml;\n",
              "          element.appendChild(docLink);\n",
              "        }\n",
              "      </script>\n",
              "    </div>\n",
              "  </div>\n",
              "  "
            ]
          },
          "metadata": {},
          "execution_count": 171
        }
      ]
    },
    {
      "cell_type": "markdown",
      "source": [
        "# 7 New York State Hospitalization Graphs\n",
        "Various graphs showcasing New York State Hospitalization Data"
      ],
      "metadata": {
        "id": "1tb6HCr-Ymal"
      }
    },
    {
      "cell_type": "markdown",
      "source": [
        "## 7.1 Newly Admitted Patients\n",
        "A plot showing newly admitted patients to New York State Healthcare facilities since the beginning of the pandemic."
      ],
      "metadata": {
        "id": "9tBzySWuYztJ"
      }
    },
    {
      "cell_type": "code",
      "source": [
        "nap = nyhosp.drop('Patients Admitted Due to COVID', axis=1)\n",
        "\n",
        "nap.plot()"
      ],
      "metadata": {
        "colab": {
          "base_uri": "https://localhost:8080/",
          "height": 299
        },
        "id": "ZBXQh29t9pY0",
        "outputId": "26b6eb8b-25f0-4b23-d335-e52627ba5c0e"
      },
      "execution_count": 172,
      "outputs": [
        {
          "output_type": "execute_result",
          "data": {
            "text/plain": [
              "<matplotlib.axes._subplots.AxesSubplot at 0x7f9b95535690>"
            ]
          },
          "metadata": {},
          "execution_count": 172
        },
        {
          "output_type": "display_data",
          "data": {
            "text/plain": [
              "<Figure size 432x288 with 1 Axes>"
            ],
            "image/png": "[encoded data removed]"
          },
          "metadata": {
            "needs_background": "light"
          }
        }
      ]
    },
    {
      "cell_type": "markdown",
      "source": [
        "\n",
        "---\n",
        "## External Resources\n",
        "Here are various links to some related resources, including the datasets I used, that may be helpful for understanding.\n",
        "\n",
        "[US Cases and Deaths Data](https://data.cdc.gov/Case-Surveillance/United-States-COVID-19-Cases-and-Deaths-by-State-o/9mfq-cb36/data) via CDC\n",
        "\n",
        "[New York State Hospitalization Data](https://health.data.ny.gov/Health/New-York-State-Statewide-COVID-19-Hospitalizations/jw46-jpb7/data\n",
        ") via New York State\n",
        "\n",
        "\n"
      ],
      "metadata": {
        "id": "ymsNnV9UlLKl"
      }
    }
  ]
}